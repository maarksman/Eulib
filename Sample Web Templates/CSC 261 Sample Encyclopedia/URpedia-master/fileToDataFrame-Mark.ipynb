{
 "cells": [
  {
   "cell_type": "markdown",
   "metadata": {},
   "source": [
    "#### DataFrames are built on top of RDD's and provide database type functionality\n",
    "#### We will use some sample data from Wegmans to explore DataFrames\n",
    "#### This notebook creates DataFrames from TextFiles "
   ]
  },
  {
   "cell_type": "code",
   "execution_count": 1,
   "metadata": {
    "collapsed": false
   },
   "outputs": [
    {
     "data": {
      "text/plain": [
       "<pyspark.context.SparkContext at 0x2b1a5d518f10>"
      ]
     },
     "execution_count": 1,
     "metadata": {},
     "output_type": "execute_result"
    }
   ],
   "source": [
    "sc"
   ]
  },
  {
   "cell_type": "code",
   "execution_count": 2,
   "metadata": {
    "collapsed": false
   },
   "outputs": [],
   "source": [
    "from pyspark.sql import Row\n",
    "from datetime import datetime\n",
    "\n",
    "# Define functions to parse txt files containing itmes, stores, customers, and transactions\n",
    "def parseStore(s):\n",
    "    l=s.split('|')\n",
    "    return Row(store_num=int(l[0]), \n",
    "               store_name=l[1],               \n",
    "               store_zone=l[2],\n",
    "               store_city=l[3], \n",
    "               store_state=l[4], \n",
    "               store_type=int(l[5]))\n",
    "\n",
    "def parseItem(s):\n",
    "    l=s.split('|')\n",
    "    return Row(item_number=int(l[0]), \n",
    "               dept_categ_class=l[1],               \n",
    "               item_des=l[2],\n",
    "               item_unt_qty=float(l[3]), \n",
    "               size_unit_desc=l[4], \n",
    "               brand_code=l[5], \n",
    "               dept_num=int(l[6]), \n",
    "               dept_name=l[7], \n",
    "               categ_num=int(l[8]), \n",
    "               categ_name=l[9], \n",
    "               class_num=int(l[10]),\n",
    "               class_name=l[11])\n",
    "\n",
    "def parseCustomer(s):\n",
    "    l=s.split('|')\n",
    "    return Row(hshld_acct=int(l[0]),\n",
    "               birth_yr_head_hh=l[1],\n",
    "               hh_income=l[2],\n",
    "               hh_size=l[3],\n",
    "               adult_count=l[4],\n",
    "               child_count=l[5],\n",
    "               birth_yr_oldest=l[6],\n",
    "               birth_yr_youngest=l[7],\n",
    "               bad_address=l[8],\n",
    "               privacy=l[9],\n",
    "               application_date=datetime.strptime(l[10],'%Y-%m-%d'),\n",
    "               wine_email_sent=int(l[11]),\n",
    "               wine_email_open=int(l[12]),\n",
    "               wine_email_click=int(l[13]))\n",
    "\n",
    "def parsePostrans(s):\n",
    "    l=s.split('|')\n",
    "    return Row(hshld_acct=int(l[0]),\n",
    "               acct_num=int(l[1]),\n",
    "               trans_num=int(l[2]),\n",
    "               trans_date=datetime.strptime(l[3],'%Y-%m-%d'),\n",
    "               store_num=int(l[4]),\n",
    "               item_number=int(l[5]),\n",
    "               dept_categ_class=l[6],\n",
    "               unit_count=int(l[7]),\n",
    "               net_sales=float(l[8]),\n",
    "               gross_sales=float(l[9]),\n",
    "               manuf_coupon=float(l[10]))"
   ]
  },
  {
   "cell_type": "code",
   "execution_count": 3,
   "metadata": {
    "collapsed": false
   },
   "outputs": [],
   "source": [
    "path='/public/tbiswas2/csc261/spark/wegmans/'\n",
    "\n",
    "storeDF=spark.createDataFrame(sc.textFile(path+'wegmans_store_master.txt').map(lambda x: parseStore(x)))\n",
    "customerDF=spark.createDataFrame(sc.textFile(path+'wegmans_customer_master.txt').map(lambda x: parseCustomer(x)))\n",
    "itemDF=spark.createDataFrame(sc.textFile(path+'wegmans_item_master.txt').map(lambda x: parseItem(x)))\n",
    "postransDF=spark.createDataFrame(sc.textFile(path+'partial_transaction.dat').map(lambda x: parsePostrans(x)))"
   ]
  },
  {
   "cell_type": "code",
   "execution_count": 4,
   "metadata": {
    "collapsed": false
   },
   "outputs": [
    {
     "name": "stdout",
     "output_type": "stream",
     "text": [
      "+-------------+--------------------+---------+-----------+----------+----------+\n",
      "|   store_city|          store_name|store_num|store_state|store_type|store_zone|\n",
      "+-------------+--------------------+---------+-----------+----------+----------+\n",
      "|        DEPEW|   WEGMANS DICK ROAD|       80|         NY|         1|   BUFFALO|\n",
      "|      AMHERST|WEGMANS ALBERTA D...|       82|         NY|         1|   BUFFALO|\n",
      "|WILLIAMSVILLE|WEGMANS SHERIDAN ...|       83|         NY|         1|   BUFFALO|\n",
      "|      BUFFALO|    WEGMANS MCKINLEY|       84|         NY|         1|   BUFFALO|\n",
      "|      AMHERST|WEGMANS NIAGARA F...|       86|         NY|         1|   BUFFALO|\n",
      "+-------------+--------------------+---------+-----------+----------+----------+\n",
      "only showing top 5 rows\n",
      "\n",
      "+-----------+--------------------+-----------+----------------+---------------+-----------------+-----------+---------+-------+----------+-------+----------------+---------------+---------------+\n",
      "|adult_count|    application_date|bad_address|birth_yr_head_hh|birth_yr_oldest|birth_yr_youngest|child_count|hh_income|hh_size|hshld_acct|privacy|wine_email_click|wine_email_open|wine_email_sent|\n",
      "+-----------+--------------------+-----------+----------------+---------------+-----------------+-----------+---------+-------+----------+-------+----------------+---------------+---------------+\n",
      "|          2|2012-10-21 00:00:...|          N|            1981|              0|                0|          0|    62500|      2|       559|      N|               0|              0|              0|\n",
      "|          0|2014-02-06 00:00:...|          N|               0|              0|                0|          0|        0|      0|       868|      N|               0|              0|              0|\n",
      "|          2|2012-09-25 00:00:...|          N|            1983|              0|                0|          1|   112500|      3|      1030|      Y|               0|              0|              0|\n",
      "|          1|2012-09-27 00:00:...|          N|            1979|              0|                0|          0|    35000|      1|      4270|      N|               0|              0|              0|\n",
      "|          0|2014-02-07 00:00:...|          N|               0|              0|                0|          0|        0|      0|      4580|      N|               0|              0|              0|\n",
      "+-----------+--------------------+-----------+----------------+---------------+-----------------+-----------+---------+-------+----------+-------+----------------+---------------+---------------+\n",
      "only showing top 5 rows\n",
      "\n",
      "+----------+--------------------+---------+--------------------+---------+----------------+---------+--------+--------------------+-----------+------------+--------------+\n",
      "|brand_code|          categ_name|categ_num|          class_name|class_num|dept_categ_class|dept_name|dept_num|            item_des|item_number|item_unt_qty|size_unit_desc|\n",
      "+----------+--------------------+---------+--------------------+---------+----------------+---------+--------+--------------------+-----------+------------+--------------+\n",
      "|      WEGF|WEGMANS WHITE BREADS|        1|  WEGMAN WHITE BREAD|        1|          010101| BAKESHOP|       1|      WG GIANT BREAD|      19190|        22.0|            OZ|\n",
      "|      WEGF|WEGMANS WHITE BREADS|        1|  WEGMAN WHITE BREAD|        1|          010101| BAKESHOP|       1|  WG HOMESTYLE BREAD|      60505|        16.0|            OZ|\n",
      "|      STRM| VENDOR WHITE BREADS|        2|STROEHMANN WHITE ...|       30|          010230| BAKESHOP|       1|       STRH KING BRD|      58944|        22.0|            OZ|\n",
      "|      STRM| VENDOR WHITE BREADS|        2|STROEHMANN WHITE ...|       30|          010230| BAKESHOP|       1|    STRH RANCH BREAD|      82707|        20.0|            OZ|\n",
      "|      STRM| VENDOR WHITE BREADS|        2|STROEHMANN WHITE ...|       30|          010230| BAKESHOP|       1|STRH SML FAMILY W...|     142071|        13.0|            OZ|\n",
      "+----------+--------------------+---------+--------------------+---------+----------------+---------+--------+--------------------+-----------+------------+--------------+\n",
      "only showing top 5 rows\n",
      "\n",
      "+--------+----------------+-----------+----------+-----------+------------+---------+---------+--------------------+---------+----------+\n",
      "|acct_num|dept_categ_class|gross_sales|hshld_acct|item_number|manuf_coupon|net_sales|store_num|          trans_date|trans_num|unit_count|\n",
      "+--------+----------------+-----------+----------+-----------+------------+---------+---------+--------------------+---------+----------+\n",
      "|     559|          010327|       1.99|       559|      16705|         0.0|     1.99|       64|2013-06-01 00:00:...|   174758|         1|\n",
      "|     559|          010640|       2.29|       559|      85189|         0.0|     2.29|       64|2013-06-01 00:00:...|   174758|         1|\n",
      "|     559|          021410|       5.99|       559|      24159|         0.0|     5.99|       64|2013-06-01 00:00:...|   174758|         1|\n",
      "|     559|          022036|       3.49|       559|      33378|         0.0|     3.49|       64|2013-06-01 00:00:...|   174758|         1|\n",
      "|     559|          022036|       5.99|       559|      33261|         0.0|     5.99|       64|2013-06-01 00:00:...|   174758|         1|\n",
      "+--------+----------------+-----------+----------+-----------+------------+---------+---------+--------------------+---------+----------+\n",
      "only showing top 5 rows\n",
      "\n"
     ]
    }
   ],
   "source": [
    "storeDF.show(5)\n",
    "customerDF.show(5)\n",
    "itemDF.show(5)\n",
    "postransDF.show(5)"
   ]
  },
  {
   "cell_type": "markdown",
   "metadata": {},
   "source": [
    "# Query 4"
   ]
  },
  {
   "cell_type": "code",
   "execution_count": 5,
   "metadata": {
    "collapsed": false
   },
   "outputs": [
    {
     "name": "stdout",
     "output_type": "stream",
     "text": [
      "2014-04-26 00:00:00\n",
      "2013-04-28 00:00:00\n"
     ]
    }
   ],
   "source": [
    "postransDD = postransDF.select(\"trans_date\").rdd\n",
    "maxdate = postransDD.max()[0]\n",
    "mindate = postransDD.min()[0]\n",
    "print(maxdate)\n",
    "print(mindate)"
   ]
  },
  {
   "cell_type": "markdown",
   "metadata": {},
   "source": [
    "# Query 8"
   ]
  },
  {
   "cell_type": "code",
   "execution_count": 6,
   "metadata": {
    "collapsed": false
   },
   "outputs": [
    {
     "name": "stdout",
     "output_type": "stream",
     "text": [
      "+-----------+--------------------+-----------+----------------+---------------+-----------------+-----------+---------+-------+----------+-------+----------------+---------------+---------------+\n",
      "|adult_count|    application_date|bad_address|birth_yr_head_hh|birth_yr_oldest|birth_yr_youngest|child_count|hh_income|hh_size|hshld_acct|privacy|wine_email_click|wine_email_open|wine_email_sent|\n",
      "+-----------+--------------------+-----------+----------------+---------------+-----------------+-----------+---------+-------+----------+-------+----------------+---------------+---------------+\n",
      "|          6|1982-10-19 00:00:...|          N|            1983|              0|                0|          0|    87500|      6|    301443|      N|               0|              0|              0|\n",
      "+-----------+--------------------+-----------+----------------+---------------+-----------------+-----------+---------+-------+----------+-------+----------------+---------------+---------------+\n",
      "\n"
     ]
    }
   ],
   "source": [
    "import pyspark.sql.functions as F\n",
    "\n",
    "\n",
    "milktableDF = itemDF.filter(itemDF['class_name'] == 'WHOLE MILK')\n",
    "milkfilterDF = milktableDF.select('class_name', 'item_number')\n",
    "milkjoinDF = postransDF.join(milkfilterDF, milkfilterDF.item_number == postransDF.item_number)\n",
    "milkhouse = milkjoinDF.select('hshld_acct','unit_count')\n",
    "milksumDF = milkhouse.groupBy('hshld_acct').agg(F.sum('unit_count').alias('Units_sold'))\n",
    "maxmilkDD = milksumDF.select('Units_sold').rdd\n",
    "maxmilkval = maxmilkDD.max()[0]\n",
    "#print(maxmilkval)\n",
    "milksumordered = milksumDF.orderBy(milksumDF.Units_sold.desc())\n",
    "maxhousemilkDF = milksumDF.filter(milksumDF['Units_sold'] == maxmilkval)\n",
    "maxmilkhshldDF = maxhousemilkDF.select('hshld_acct')\n",
    "maxmilkhshldnum = maxmilkhshldDF.rdd.max()[0]\n",
    "milkbuyertuple = customerDF.filter(customerDF['hshld_acct'] == maxmilkhshldnum).show()\n",
    "\n"
   ]
  },
  {
   "cell_type": "markdown",
   "metadata": {},
   "source": [
    "# Query 12"
   ]
  },
  {
   "cell_type": "code",
   "execution_count": 7,
   "metadata": {
    "collapsed": false,
    "scrolled": true
   },
   "outputs": [
    {
     "name": "stdout",
     "output_type": "stream",
     "text": [
      "+--------------------+-----+\n",
      "|          store_name|count|\n",
      "+--------------------+-----+\n",
      "|CENTURY LIQUOR AN...| 1001|\n",
      "|   WEGMANS PITTSFORD|  727|\n",
      "| WEGMANS EAST AVENUE|  560|\n",
      "+--------------------+-----+\n",
      "only showing top 3 rows\n",
      "\n"
     ]
    }
   ],
   "source": [
    "##Find the top three (3) stores with the highest number of customers. Display the name of the stores and the\n",
    "##number of customers.\n",
    "\n",
    "from pyspark.sql import functions as F\n",
    "\n",
    "distinctposDF = postransDF.select('hshld_acct', 'store_num').distinct()\n",
    "custcountbystoreDF = distinctposDF.groupBy('store_num').count().sort('count', ascending=False)\n",
    "#custcountbystoreDF.show()\n",
    "storecustDF = storeDF.join(custcountbystoreDF, storeDF.store_num == custcountbystoreDF.store_num).select('store_name', 'count')\n",
    "storecustDF.sort('count', ascending=False).show(3)"
   ]
  },
  {
   "cell_type": "code",
   "execution_count": null,
   "metadata": {
    "collapsed": true
   },
   "outputs": [],
   "source": []
  }
 ],
 "metadata": {
  "kernelspec": {
   "display_name": "Python 2 (spark)",
   "language": "python",
   "name": "python-2.7.10-b1-spark"
  },
  "language_info": {
   "codemirror_mode": {
    "name": "ipython",
    "version": 2
   },
   "file_extension": ".py",
   "mimetype": "text/x-python",
   "name": "python",
   "nbconvert_exporter": "python",
   "pygments_lexer": "ipython2",
   "version": "2.7.10"
  },
  "widgets": {
   "state": {},
   "version": "1.1.2"
  }
 },
 "nbformat": 4,
 "nbformat_minor": 0
}
